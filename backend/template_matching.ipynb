{
 "cells": [
  {
   "cell_type": "code",
   "execution_count": 2,
   "metadata": {},
   "outputs": [],
   "source": [
    "import cv2 as cv\n",
    "import numpy as np\n",
    "from pathlib import Path"
   ]
  },
  {
   "cell_type": "markdown",
   "metadata": {},
   "source": [
    "## Save the images from the entry camera into a database"
   ]
  },
  {
   "cell_type": "code",
   "execution_count": 3,
   "metadata": {},
   "outputs": [],
   "source": [
    "# image database (contains images taken by the entry camera)\n",
    "db = []\n",
    "\n",
    "folder_dir = 'base_photos'    \n",
    "images = Path(folder_dir).glob('*.jpg')\n",
    "\n",
    "for image in images:\n",
    "    tmp = str(image)[len(folder_dir)+1:][:-4].split(\"-\")\n",
    "    shoe_id = int(tmp[0])\n",
    "    num = int(tmp[1])\n",
    "    img = cv.imread(str(image))\n",
    "    db.append({'image':img, 'id':shoe_id, 'number':num})\n",
    "    \n",
    "# to display the 6th picture in the photos directory\n",
    "# cv.imshow('test', db[5]['image'])\n",
    "# cv.waitKey(0)"
   ]
  },
  {
   "cell_type": "markdown",
   "metadata": {},
   "source": [
    "So far, I only saved the original pictures into the db. I haven't done image augmentation (eg. flip, rotate) on them. Moving on, we should add the augmented images into the db, with the same `id` but with a diff `number`\n",
    "\n",
    "Also, the names of the images in `base_photos` is saved such that the number before the - is the id number, while the number after the - is just to show which photo of the id is this. For example, `2-3.jpg` means this shoe is id 2 and this photo is the 3rd photo of id 2."
   ]
  },
  {
   "cell_type": "markdown",
   "metadata": {},
   "source": [
    "## Testing the Template Matching method"
   ]
  },
  {
   "cell_type": "markdown",
   "metadata": {},
   "source": [
    "We want to find the ids of shoes in folder `to_retrieve_ids`. Note that in the folder, only `1.jpg` is exactly the same as picture `4-1.jpg` in `base_photos`. Other pictures in `to_retrieve_ids` are not exact replicate of pictures in `base_photos`."
   ]
  },
  {
   "cell_type": "code",
   "execution_count": 56,
   "metadata": {},
   "outputs": [
    {
     "data": {
      "text/plain": [
       "[[2, 4, 4], [1, 2, 4, 4, 4], [1, 2, 4, 4], []]"
      ]
     },
     "execution_count": 56,
     "metadata": {},
     "output_type": "execute_result"
    }
   ],
   "source": [
    "folder_dir = 'to_retrieve_ids'\n",
    "images = Path(folder_dir).glob('*.jpg')\n",
    "\n",
    "actual_ids = [4, 4, 2, 3]\n",
    "identified = []    # stores result from template matching\n",
    "\n",
    "for image in images:\n",
    "    template = cv.imread(str(image), cv.IMREAD_COLOR)\n",
    "    threshold = 0.7     # set threshold; high (ie. 1) means \"more strict\"\n",
    "    tmp = []    # stores detected ids for this shoe; if empty means no id is assigned to this shoe\n",
    "    \n",
    "    # perform match operation\n",
    "    for item in db:\n",
    "        res = cv.matchTemplate(item['image'], template, cv.TM_CCOEFF_NORMED)\n",
    "        loc = np.where(res >= threshold)\n",
    "        if (len(loc[0])!=0 and len(loc[1])!=0):    # if there's a match\n",
    "            tmp.append(item['id'])\n",
    "            \n",
    "    identified.append(tmp)\n",
    "    \n",
    "identified"
   ]
  },
  {
   "cell_type": "markdown",
   "metadata": {},
   "source": [
    "Here's an interpretation of the variable `identified`:\n",
    "\n",
    "For this threshold, `1.jpg` in `to_retrieve_ids` is correctly assigned to id 4, but is mistaken to be id 2 as well. Same for `2.jpg` which is mistaken to be id 1 and id 2. The last element of `identified` is an empty list, which means that the algorithm failed to identify that `4.jpg` is actually id 3.\n",
    "\n",
    "Note: after changing the threshold to 0.85, ids are correctly assigned to `1.jpg` and `2.jpg`. But the algorithm failed to recognise that `3.jpg` is actually id 2 and `4.jpg` is id 3.\n",
    "\n",
    "We shall see if it will improve with image augmentation + background removal"
   ]
  },
  {
   "cell_type": "code",
   "execution_count": 49,
   "metadata": {},
   "outputs": [
    {
     "data": {
      "text/plain": [
       "-1"
      ]
     },
     "execution_count": 49,
     "metadata": {},
     "output_type": "execute_result"
    }
   ],
   "source": [
    "# to visualize bounding boxes\n",
    "a = cv.imread('base_photos/4-2.jpg')     # can change\n",
    "b = cv.imread('to_retrieve_ids/1.jpg', cv.IMREAD_COLOR)    # can change\n",
    "\n",
    "res = cv.matchTemplate(a, b, cv.TM_CCOEFF_NORMED)\n",
    "w, h = b.shape[1], b.shape[0]\n",
    "threshold = 0.7\n",
    "loc = np.where(res >= threshold)\n",
    "for pt in zip(*loc[::-1]):\n",
    "    cv.rectangle(a, pt, (pt[0] + w, pt[1] + h), (0, 255, 255), 2)\n",
    "cv.imshow('Detected', a)\n",
    "cv.waitKey(0)"
   ]
  }
 ],
 "metadata": {
  "kernelspec": {
   "display_name": "Python 3.9.7 ('base')",
   "language": "python",
   "name": "python3"
  },
  "language_info": {
   "codemirror_mode": {
    "name": "ipython",
    "version": 3
   },
   "file_extension": ".py",
   "mimetype": "text/x-python",
   "name": "python",
   "nbconvert_exporter": "python",
   "pygments_lexer": "ipython3",
   "version": "3.9.7"
  },
  "orig_nbformat": 4,
  "vscode": {
   "interpreter": {
    "hash": "263c7e5886329c338e3eea93de1eefde229b9e56212206ac237d31476cf7523a"
   }
  }
 },
 "nbformat": 4,
 "nbformat_minor": 2
}
