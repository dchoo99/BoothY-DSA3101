{
 "cells": [
  {
   "cell_type": "code",
   "execution_count": 4,
   "metadata": {},
   "outputs": [],
   "source": [
    "import cv2 as cv\n",
    "import numpy as np\n",
    "from pathlib import Path\n",
    "import datetime\n",
    "import tensorflow as tf\n",
    "from tensorflow import keras\n",
    "from tensorflow.keras.preprocessing.image import ImageDataGenerator"
   ]
  },
  {
   "cell_type": "markdown",
   "metadata": {},
   "source": [
    "## Save the images from the entry camera into a database"
   ]
  },
  {
   "cell_type": "code",
   "execution_count": 7,
   "metadata": {},
   "outputs": [],
   "source": [
    "#Assumptions made at this stage: \n",
    "#Each unique visitor's shoes will only be captured once by the entrance camera\n",
    "# image database (contains images taken by the entry camera)\n",
    "db = []\n",
    "\n",
    "folder_dir = 'base_photos'    \n",
    "images = Path(folder_dir).glob('*.jpg')\n",
    "gen = ImageDataGenerator(rotation_range=60, horizontal_flip = True) #change accordingly\n",
    "count = 1 #number of visitors\n",
    "\n",
    "for image in images:\n",
    "    tmp = str(image)[len(folder_dir)+1:][:-4].split(\"_\")\n",
    "    tmp_date = tmp[0]\n",
    "    tmp_time = tmp[1]\n",
    "    date = tmp_date.split(\".\")\n",
    "    time = tmp_time.split(\".\")\n",
    "    img = cv.imread(str(image))\n",
    "    date_time = datetime.datetime(int(date[0]), int(date[1]), int(date[2]), int(time[0]), int(time[1]), int(time[2]))\n",
    "    num = 1\n",
    "    db.append({'image':img, 'id':count, 'number':num, 'datetime': date_time})\n",
    "    #image augmentation\n",
    "    original_image = np.expand_dims(img,0) #expand dimensions for compatibility\n",
    "    aug_iter = gen.flow(original_image, batch_size = 10) #to generate 10 augmented images from original image\n",
    "    aug_images = [next(aug_iter)[0].astype(np.uint8) for i in range(10)]\n",
    "    for i in aug_images:\n",
    "        num+=1\n",
    "        db.append({'image':i, 'id':count,'number':num, 'datetime': date_time})\n",
    "    count += 1 #increment count for next shoe\n",
    "# to display the 6th picture in the photos directory\n",
    "# cv.imshow('test', db[5]['image'])\n",
    "# cv.waitKey(0)"
   ]
  },
  {
   "cell_type": "markdown",
   "metadata": {},
   "source": [
    "So far, I only saved the original pictures into the db. I haven't done image augmentation (eg. flip, rotate) on them. Moving on, we should add the augmented images into the db, with the same `id` but with a diff `number`\n",
    "\n",
    "The names of the images in `base_photos` is saved in the format `2022.10.18_10.38.27_esp32-cam.jpg` which can be interpreted as the photo was taken on 18th October 2022, 10:38:27. \n",
    "Since we have made the assumption that each visitor's shoes will only be captured once, all original images of the shoes (non-augmented images) will have `num` = 1"
   ]
  },
  {
   "cell_type": "markdown",
   "metadata": {},
   "source": [
    "## Testing the Template Matching method"
   ]
  },
  {
   "cell_type": "markdown",
   "metadata": {},
   "source": [
    "We want to find the ids of shoes in folder `to_retrieve_ids`. Note that in the folder, only `1.jpg` is exactly the same as picture `4-1.jpg` in `base_photos`. Other pictures in `to_retrieve_ids` are not exact replicate of pictures in `base_photos`."
   ]
  },
  {
   "cell_type": "code",
   "execution_count": 8,
   "metadata": {},
   "outputs": [
    {
     "data": {
      "text/plain": [
       "[[2, 2, 4, 4, 4, 4], [1, 2, 4, 4, 4, 4, 4, 4], [1, 2, 4, 4, 4], []]"
      ]
     },
     "execution_count": 8,
     "metadata": {},
     "output_type": "execute_result"
    }
   ],
   "source": [
    "folder_dir = 'to_retrieve_ids'\n",
    "images = Path(folder_dir).glob('*.jpg')\n",
    "\n",
    "actual_ids = [4, 4, 2, 3]\n",
    "identified = []    # stores result from template matching\n",
    "\n",
    "for image in images:\n",
    "    template = cv.imread(str(image), cv.IMREAD_COLOR)\n",
    "    threshold = 0.70   # set threshold; high (ie. 1) means \"more strict\"\n",
    "    tmp = []    # stores detected ids for this shoe; if empty means no id is assigned to this shoe\n",
    "    \n",
    "    # perform match operation\n",
    "    for item in db:\n",
    "        res = cv.matchTemplate(item['image'], template, cv.TM_CCOEFF_NORMED)\n",
    "        loc = np.where(res >= threshold)\n",
    "        if (len(loc[0])!=0 and len(loc[1])!=0):    # if there's a match\n",
    "            tmp.append(item['id'])\n",
    "            \n",
    "    identified.append(tmp)\n",
    "    \n",
    "identified"
   ]
  },
  {
   "cell_type": "markdown",
   "metadata": {},
   "source": [
    "Here's an interpretation of the variable `identified`:\n",
    "\n",
    "For this threshold, `1.jpg` in `to_retrieve_ids` is correctly assigned to id 4, but is mistaken to be id 2 as well. Same for `2.jpg` which is mistaken to be id 1 and id 2. The last element of `identified` is an empty list, which means that the algorithm failed to identify that `4.jpg` is actually id 3.\n",
    "\n",
    "Note: after changing the threshold to 0.85, ids are correctly assigned to `1.jpg` and `2.jpg`. But the algorithm failed to recognise that `3.jpg` is actually id 2 and `4.jpg` is id 3.\n",
    "\n",
    "We shall see if it will improve with image augmentation + background removal"
   ]
  },
  {
   "cell_type": "code",
   "execution_count": 21,
   "metadata": {},
   "outputs": [
    {
     "data": {
      "text/plain": [
       "-1"
      ]
     },
     "execution_count": 21,
     "metadata": {},
     "output_type": "execute_result"
    }
   ],
   "source": [
    "# to visualize bounding boxes\n",
    "a = cv.imread('base_photos/4-2.jpg')     # can change\n",
    "b = cv.imread('to_retrieve_ids/1.jpg', cv.IMREAD_COLOR)    # can change\n",
    "\n",
    "res = cv.matchTemplate(a, b, cv.TM_CCOEFF_NORMED)\n",
    "w, h = b.shape[1], b.shape[0]\n",
    "threshold = 0.7\n",
    "loc = np.where(res >= threshold)\n",
    "for pt in zip(*loc[::-1]):\n",
    "    cv.rectangle(a, pt, (pt[0] + w, pt[1] + h), (0, 255, 255), 2)\n",
    "cv.imshow('Detected', a)\n",
    "cv.waitKey(0)"
   ]
  }
 ],
 "metadata": {
  "kernelspec": {
   "display_name": "venv",
   "language": "python",
   "name": "venv"
  },
  "language_info": {
   "codemirror_mode": {
    "name": "ipython",
    "version": 3
   },
   "file_extension": ".py",
   "mimetype": "text/x-python",
   "name": "python",
   "nbconvert_exporter": "python",
   "pygments_lexer": "ipython3",
   "version": "3.10.4"
  },
  "orig_nbformat": 4,
  "vscode": {
   "interpreter": {
    "hash": "67eac9bec6794300eb481021eaaec08f6398da34de3cd125a4fc8ffd6e1a4d5a"
   }
  }
 },
 "nbformat": 4,
 "nbformat_minor": 2
}
